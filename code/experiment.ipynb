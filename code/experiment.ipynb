{
 "cells": [
  {
   "cell_type": "markdown",
   "id": "55238d91-d82b-422b-b873-58d048b27aeb",
   "metadata": {},
   "source": [
    "Import the necessary libraries"
   ]
  },
  {
   "cell_type": "code",
   "execution_count": 1,
   "id": "5c2aaf4c-ec3a-4a52-9c1b-09c4c5a49911",
   "metadata": {},
   "outputs": [],
   "source": [
    "import numpy as np\n",
    "from nnmf import initialize, loss, nnmf\n",
    "from sklearn.decomposition import NMF"
   ]
  },
  {
   "cell_type": "markdown",
   "id": "9b4b464a-3ac3-4b35-8924-b25fe9215727",
   "metadata": {},
   "source": [
    "Create a random non-negative matrix and set the number of clusters."
   ]
  },
  {
   "cell_type": "code",
   "execution_count": 2,
   "id": "de1e9004-afce-4490-8944-9eccc530f4f7",
   "metadata": {},
   "outputs": [],
   "source": [
    "A = np.random.rand(100, 120)\n",
    "k = 10"
   ]
  },
  {
   "cell_type": "markdown",
   "id": "f735c0a8-52fe-4894-bfa0-9b2d1c3948c0",
   "metadata": {},
   "source": [
    "Output the error after initialization."
   ]
  },
  {
   "cell_type": "code",
   "execution_count": 3,
   "id": "5c7af6c6-7c40-4980-bb63-855d34a9a9e7",
   "metadata": {},
   "outputs": [
    {
     "data": {
      "text/plain": [
       "29.264698897554474"
      ]
     },
     "execution_count": 3,
     "metadata": {},
     "output_type": "execute_result"
    }
   ],
   "source": [
    "H, W = initialize(A, k)\n",
    "loss(A, H, W)"
   ]
  },
  {
   "cell_type": "markdown",
   "id": "4fffc939-fbe2-4bcd-b3f9-cbeb6cfebcf6",
   "metadata": {},
   "source": [
    "Run the NNMF algorithm and output the error."
   ]
  },
  {
   "cell_type": "code",
   "execution_count": 4,
   "id": "412e1417-0455-4e69-81e8-c213d00f2b3d",
   "metadata": {},
   "outputs": [
    {
     "data": {
      "text/plain": [
       "27.173653186548396"
      ]
     },
     "execution_count": 4,
     "metadata": {},
     "output_type": "execute_result"
    }
   ],
   "source": [
    "H, W = nnmf(A, k)\n",
    "loss(A, H, W)"
   ]
  },
  {
   "cell_type": "markdown",
   "id": "debdcb2d-c5d9-477f-b60e-5eb286f961dc",
   "metadata": {},
   "source": [
    "Compare to ``sklearn.decomposition.NMF``"
   ]
  },
  {
   "cell_type": "code",
   "execution_count": 5,
   "id": "493d8355-a568-41d1-89bc-c2d6d8d5baa0",
   "metadata": {},
   "outputs": [
    {
     "data": {
      "text/plain": [
       "27.135780442262867"
      ]
     },
     "execution_count": 5,
     "metadata": {},
     "output_type": "execute_result"
    }
   ],
   "source": [
    "nmf = NMF(k, max_iter=1000)\n",
    "W_sk = nmf.fit_transform(A)\n",
    "H_sk = nmf.components_\n",
    "loss(A, W_sk, H_sk)"
   ]
  },
  {
   "cell_type": "code",
   "execution_count": null,
   "id": "b00c33d1-9cfa-4844-9dc9-c3f26b8c49d2",
   "metadata": {},
   "outputs": [],
   "source": []
  },
  {
   "cell_type": "code",
   "execution_count": null,
   "id": "e4d72d11-8317-4a2a-a32c-8f40506ff85e",
   "metadata": {},
   "outputs": [],
   "source": []
  }
 ],
 "metadata": {
  "kernelspec": {
   "display_name": "Python 3 (ipykernel)",
   "language": "python",
   "name": "python3"
  },
  "language_info": {
   "codemirror_mode": {
    "name": "ipython",
    "version": 3
   },
   "file_extension": ".py",
   "mimetype": "text/x-python",
   "name": "python",
   "nbconvert_exporter": "python",
   "pygments_lexer": "ipython3",
   "version": "3.11.6"
  }
 },
 "nbformat": 4,
 "nbformat_minor": 5
}
